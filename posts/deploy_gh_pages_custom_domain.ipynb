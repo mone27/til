{
 "cells": [
  {
   "cell_type": "raw",
   "metadata": {
    "vscode": {
     "languageId": "raw"
    }
   },
   "source": [
    "---\n",
    "title: Deploy Quarto on Github pages on a custom domain\n",
    "date: 2025-01-19\n",
    "author: Simone Massaro\n",
    "---"
   ]
  },
  {
   "cell_type": "markdown",
   "metadata": {},
   "source": [
    "For this website I wanted to publish it on a custom subdomain (`til.mone27.net`) and not on the default one (`mone27.github.io`). \n",
    "Doing this with quarto was slightly more complicated than I thought, so I wanted to document the steps I took to get it working.\n",
    "\n",
    "The first thing is to add a custom domain in your github account and the in the repo pages settings. I am working with subdomain (not top level domain) so I had to add a CNAME record in my DNS settings poining to `mone27.github.io`.\n",
    "\n",
    "Then you need to add a `CNAME` file in the root of your repo with the custom domain name. In my case it was `til.mone27.net`. Now we need to convince quarto to also bring this file to the output directory (when deploying using CI).\n",
    "\n",
    "Thanks to this helpful [post](https://blog.nshephard.dev/posts/quarto-cname/) I found that that in the `_quarto.yml` under the the `project` section I needed to add:\n",
    "\n",
    "```yaml\n",
    "project:\n",
    "  type: website\n",
    "  resources: \n",
    "    - CNAME\n",
    "```\n",
    "\n",
    "This works!\n",
    "Last step is to enforce HTTPS on github pages and we are ready to go."
   ]
  },
  {
   "cell_type": "markdown",
   "metadata": {},
   "source": []
  }
 ],
 "metadata": {
  "kernelspec": {
   "display_name": "everything",
   "language": "python",
   "name": "everything"
  },
  "language_info": {
   "codemirror_mode": {
    "name": "ipython",
    "version": 3
   },
   "file_extension": ".py",
   "mimetype": "text/x-python",
   "name": "python",
   "nbconvert_exporter": "python",
   "pygments_lexer": "ipython3",
   "version": "3.12.0"
  }
 },
 "nbformat": 4,
 "nbformat_minor": 2
}
