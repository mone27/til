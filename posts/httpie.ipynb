{
 "cells": [
  {
   "cell_type": "raw",
   "metadata": {
    "vscode": {
     "languageId": "raw"
    }
   },
   "source": [
    "---\n",
    "title: HTTPie.io\n",
    "date: 2025-01-01\n",
    "author: Simone Massaro\n",
    "---"
   ]
  },
  {
   "cell_type": "markdown",
   "metadata": {},
   "source": [
    "This is more a Today I Discoverved (Tid?) than Today I learned, but I discovered [httpie](httpie.io) which is an app to make manual http requests and is very neat.\n",
    "I only used the basic functionality but is very well polished and definitely a tool to have in my toolbox in the future. \n",
    "\n",
    "You can choose between the web version and desktop app (ofc using electron) and a terminal app. \n",
    "\n",
    "Bonus: I learned how HTTP basic auth is sent in a request, you need to add an header with `Authorization: Basic <credentials>` where credentials are your credentials encoded in base64, however I didn't easily find how you should format your credentials before encoding them\n"
   ]
  },
  {
   "cell_type": "markdown",
   "metadata": {},
   "source": []
  }
 ],
 "metadata": {
  "kernelspec": {
   "display_name": "everything",
   "language": "python",
   "name": "everything"
  },
  "language_info": {
   "codemirror_mode": {
    "name": "ipython",
    "version": 3
   },
   "file_extension": ".py",
   "mimetype": "text/x-python",
   "name": "python",
   "nbconvert_exporter": "python",
   "pygments_lexer": "ipython3",
   "version": "3.12.0"
  }
 },
 "nbformat": 4,
 "nbformat_minor": 2
}
