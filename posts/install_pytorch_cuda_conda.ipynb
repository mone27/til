{
 "cells": [
  {
   "cell_type": "raw",
   "metadata": {
    "vscode": {
     "languageId": "raw"
    }
   },
   "source": [
    "---\n",
    "title: Install Pytorch + Cuda using conda\n",
    "date: 2025-04-29\n",
    "author: Simone Massaro\n",
    "---"
   ]
  },
  {
   "cell_type": "markdown",
   "metadata": {},
   "source": [
    "You can install cuda in a conda enviroment using `conda-forge` and it just works :) No additional channels required.\n",
    "\n",
    "this (snippet) of your `pixi.toml` should do the trick:\n",
    "\n",
    "```toml\n",
    "[dependencies]\n",
    "cuda = \"==12.6.3\" # or any other exact version of cuda that is compatible with your pytorch version\n",
    "pytorch-gpu = \"==2.6.0\" # this is the new package from conda-forge\n",
    "```\n",
    "The `pytorch` conda channel is deprecated `https://github.com/pytorch/pytorch/issues/138506`, which means that the `conda-forge` version may be a bit out of date (like now the version 2.7 is not yet available), but you can still install `pytorch` from PyPi and cuda with conda and this works very well"
   ]
  },
  {
   "cell_type": "markdown",
   "metadata": {},
   "source": []
  }
 ],
 "metadata": {
  "kernelspec": {
   "display_name": "everything",
   "language": "python",
   "name": "everything"
  },
  "language_info": {
   "codemirror_mode": {
    "name": "ipython",
    "version": 3
   },
   "file_extension": ".py",
   "mimetype": "text/x-python",
   "name": "python",
   "nbconvert_exporter": "python",
   "pygments_lexer": "ipython3",
   "version": "3.12.0"
  }
 },
 "nbformat": 4,
 "nbformat_minor": 2
}
