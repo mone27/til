{
 "cells": [
  {
   "cell_type": "raw",
   "metadata": {
    "vscode": {
     "languageId": "raw"
    }
   },
   "source": [
    "---\n",
    "title: Node commands additional arguments\n",
    "date: 2025-06-02\n",
    "author: Simone Massaro\n",
    "---"
   ]
  },
  {
   "cell_type": "markdown",
   "metadata": {},
   "source": [
    "To pass an argument to a node run command you need to add them after the `--` separator.\n",
    "\n",
    "So for example if you want to pass the `--host` argument you need to do: `npm run dev -- --host` and not `npm run dev --host`, what I'd have done in my ignorance.\n",
    "\n",
    "I know this is a not a big discovery, but I am a quite new to node and  I need to thank that the LLM saved me a lot of confusing debugging time."
   ]
  }
 ],
 "metadata": {
  "language_info": {
   "name": "python"
  }
 },
 "nbformat": 4,
 "nbformat_minor": 2
}
