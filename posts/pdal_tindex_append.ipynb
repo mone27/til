{
 "cells": [
  {
   "cell_type": "raw",
   "metadata": {
    "vscode": {
     "languageId": "raw"
    }
   },
   "source": [
    "---\n",
    "title: PDAL tindex append\n",
    "date: 2025-03-10\n",
    "author: Simone Massaro\n",
    "---"
   ]
  },
  {
   "cell_type": "markdown",
   "metadata": {},
   "source": [
    "when you run `pdal create tindex` it the file already exists (at least tested with gpkg) it will not overwrite it but append to it.\n",
    "\n",
    "This is likely an intended behaviour as it can be convient to progressively update a tindex, but is a problem is you change something in the processing code and you want to delete the old data."
   ]
  }
 ],
 "metadata": {
  "language_info": {
   "name": "python"
  }
 },
 "nbformat": 4,
 "nbformat_minor": 2
}
