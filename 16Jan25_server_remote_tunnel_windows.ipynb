{
 "cells": [
  {
   "cell_type": "raw",
   "metadata": {
    "vscode": {
     "languageId": "raw"
    }
   },
   "source": [
    "---\n",
    "title: Server Remote Tunnel Windows = 💥\n",
    "date: 2025-16-01\n",
    "author: Simone Massaro\n",
    "---"
   ]
  },
  {
   "cell_type": "markdown",
   "metadata": {},
   "source": [
    "# Server behind remote ssh tunnel on windows = 💥\n",
    "\n",
    "I want to run a local web server on my windows machine and this needs to accesible by the remote computer.\n",
    "\n",
    "I need this because the local server needs to open a local app on the windows machine when a certain endpoint is hit.\n",
    "\n",
    "So I have a simple flask application that runs locally, however for the scope of today TIL that is not even relevant. What matters is that I need to access to local windows server from a remote computer.\n",
    "\n",
    "Imagine the server is running on `localhost:5000` and I want to access it from the remote server.\n",
    "\n",
    "This is the idea:\n",
    "\n",
    "- setup a reverse ssh tunnel from the windows machine to the remote server (`ssh -R 5000:localhost:5000 remote-server`)\n",
    "- access the local server from the remote server (`curl http://localhost:5000`)\n",
    "\n",
    "This setup works on linux but can't make it work on Windows.\n",
    "\n",
    "The output of curl is: `curl: (52) Empty reply from server`\n",
    "\n",
    "I am quite sure this is a windows issue because I have remove all other possible sources of errors, but I can't figure out what is the root cause.\n"
   ]
  },
  {
   "cell_type": "markdown",
   "metadata": {},
   "source": []
  }
 ],
 "metadata": {
  "kernelspec": {
   "display_name": "everything",
   "language": "python",
   "name": "everything"
  },
  "language_info": {
   "codemirror_mode": {
    "name": "ipython",
    "version": 3
   },
   "file_extension": ".py",
   "mimetype": "text/x-python",
   "name": "python",
   "nbconvert_exporter": "python",
   "pygments_lexer": "ipython3",
   "version": "3.12.0"
  }
 },
 "nbformat": 4,
 "nbformat_minor": 2
}
